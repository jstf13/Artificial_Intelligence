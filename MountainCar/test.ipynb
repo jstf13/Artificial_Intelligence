{
 "cells": [
  {
   "cell_type": "code",
   "execution_count": 26,
   "metadata": {},
   "outputs": [],
   "source": [
    "import gym\n",
    "import numpy as np\n",
    "from random import randint\n",
    "from MountainCarEnv import MountainCarEnv"
   ]
  },
  {
   "cell_type": "code",
   "execution_count": 27,
   "metadata": {},
   "outputs": [],
   "source": [
    "env = MountainCarEnv(render_mode=\"human\")"
   ]
  },
  {
   "cell_type": "code",
   "execution_count": 28,
   "metadata": {},
   "outputs": [],
   "source": [
    "def discretizar(valor):\n",
    "    aux = ((valor - env.observation_space.low) / (env.observation_space.high - env.observation_space.low)) * 20\n",
    "    return tuple(aux.astype(np.int32))"
   ]
  },
  {
   "cell_type": "code",
   "execution_count": 29,
   "metadata": {},
   "outputs": [
    {
     "data": {
      "text/plain": [
       "(8, 10)"
      ]
     },
     "execution_count": 29,
     "metadata": {},
     "output_type": "execute_result"
    }
   ],
   "source": [
    "discretizar(env.reset())"
   ]
  },
  {
   "cell_type": "code",
   "execution_count": 30,
   "metadata": {},
   "outputs": [
    {
     "data": {
      "text/plain": [
       "array([-5.        , -3.88888889, -2.77777778, -1.66666667, -0.55555556,\n",
       "        0.55555556,  1.66666667,  2.77777778,  3.88888889,  5.        ])"
      ]
     },
     "execution_count": 30,
     "metadata": {},
     "output_type": "execute_result"
    }
   ],
   "source": [
    "pos_space = np.linspace(-5, 5, 10)\n",
    "vel_space = np.linspace(-3, 3, 2)\n",
    "pos_space"
   ]
  },
  {
   "cell_type": "code",
   "execution_count": 31,
   "metadata": {},
   "outputs": [],
   "source": [
    "def get_state(obs):\n",
    "    pos, vel = obs\n",
    "    pos_bin = np.digitize(pos, pos_space)\n",
    "    vel_bin = np.digitize(vel, vel_space)\n",
    "    return pos_bin, vel_bin"
   ]
  },
  {
   "cell_type": "code",
   "execution_count": 32,
   "metadata": {},
   "outputs": [
    {
     "data": {
      "text/plain": [
       "(5, 1)"
      ]
     },
     "execution_count": 32,
     "metadata": {},
     "output_type": "execute_result"
    }
   ],
   "source": [
    "estado = get_state(np.array([-0.4, 0.2]))\n",
    "estado"
   ]
  },
  {
   "cell_type": "code",
   "execution_count": 33,
   "metadata": {},
   "outputs": [],
   "source": [
    "q_table = np.random.uniform(low=-1, high=1, size=(20, 20, 3))"
   ]
  },
  {
   "cell_type": "code",
   "execution_count": 34,
   "metadata": {},
   "outputs": [
    {
     "ename": "error",
     "evalue": "display Surface quit",
     "output_type": "error",
     "traceback": [
      "\u001b[1;31m---------------------------------------------------------------------------\u001b[0m",
      "\u001b[1;31merror\u001b[0m                                     Traceback (most recent call last)",
      "Cell \u001b[1;32mIn[34], line 6\u001b[0m\n\u001b[0;32m      4\u001b[0m listado_recompensas \u001b[39m=\u001b[39m []\n\u001b[0;32m      5\u001b[0m \u001b[39mfor\u001b[39;00m episodio \u001b[39min\u001b[39;00m \u001b[39mrange\u001b[39m(episodios):\n\u001b[1;32m----> 6\u001b[0m     estado \u001b[39m=\u001b[39m discretizar(env\u001b[39m.\u001b[39;49mreset())\n\u001b[0;32m      7\u001b[0m     done \u001b[39m=\u001b[39m \u001b[39mFalse\u001b[39;00m\n\u001b[0;32m      8\u001b[0m     recompensa_total \u001b[39m=\u001b[39m \u001b[39m0\u001b[39m\n",
      "File \u001b[1;32mc:\\Users\\Daniel\\Documents\\Inteligencia Artificial\\Obligatorio\\IA\\MountainCar\\MountainCarEnv.py:84\u001b[0m, in \u001b[0;36mMountainCarEnv.reset\u001b[1;34m(self, seed, options)\u001b[0m\n\u001b[0;32m     81\u001b[0m \u001b[39mself\u001b[39m\u001b[39m.\u001b[39mstate \u001b[39m=\u001b[39m np\u001b[39m.\u001b[39marray([\u001b[39mself\u001b[39m\u001b[39m.\u001b[39mnp_random\u001b[39m.\u001b[39muniform(low\u001b[39m=\u001b[39mlow, high\u001b[39m=\u001b[39mhigh), \u001b[39m0\u001b[39m])\n\u001b[0;32m     83\u001b[0m \u001b[39mif\u001b[39;00m \u001b[39mself\u001b[39m\u001b[39m.\u001b[39mrender_mode \u001b[39m==\u001b[39m \u001b[39m\"\u001b[39m\u001b[39mhuman\u001b[39m\u001b[39m\"\u001b[39m:\n\u001b[1;32m---> 84\u001b[0m     \u001b[39mself\u001b[39;49m\u001b[39m.\u001b[39;49mrender()\n\u001b[0;32m     85\u001b[0m \u001b[39mreturn\u001b[39;00m \u001b[39mself\u001b[39m\u001b[39m.\u001b[39m_get_observation()\n",
      "File \u001b[1;32mc:\\Users\\Daniel\\Documents\\Inteligencia Artificial\\Obligatorio\\IA\\MountainCar\\MountainCarEnv.py:185\u001b[0m, in \u001b[0;36mMountainCarEnv.render\u001b[1;34m(self)\u001b[0m\n\u001b[0;32m    178\u001b[0m gfxdraw\u001b[39m.\u001b[39mfilled_polygon(\n\u001b[0;32m    179\u001b[0m     \u001b[39mself\u001b[39m\u001b[39m.\u001b[39msurf,\n\u001b[0;32m    180\u001b[0m     [(flagx, flagy2), (flagx, flagy2 \u001b[39m-\u001b[39m \u001b[39m10\u001b[39m), (flagx \u001b[39m+\u001b[39m \u001b[39m25\u001b[39m, flagy2 \u001b[39m-\u001b[39m \u001b[39m5\u001b[39m)],\n\u001b[0;32m    181\u001b[0m     (\u001b[39m204\u001b[39m, \u001b[39m204\u001b[39m, \u001b[39m0\u001b[39m),\n\u001b[0;32m    182\u001b[0m )\n\u001b[0;32m    184\u001b[0m \u001b[39mself\u001b[39m\u001b[39m.\u001b[39msurf \u001b[39m=\u001b[39m pygame\u001b[39m.\u001b[39mtransform\u001b[39m.\u001b[39mflip(\u001b[39mself\u001b[39m\u001b[39m.\u001b[39msurf, \u001b[39mFalse\u001b[39;00m, \u001b[39mTrue\u001b[39;00m)\n\u001b[1;32m--> 185\u001b[0m \u001b[39mself\u001b[39;49m\u001b[39m.\u001b[39;49mscreen\u001b[39m.\u001b[39;49mblit(\u001b[39mself\u001b[39;49m\u001b[39m.\u001b[39;49msurf, (\u001b[39m0\u001b[39;49m, \u001b[39m0\u001b[39;49m))\n\u001b[0;32m    186\u001b[0m \u001b[39mif\u001b[39;00m \u001b[39mself\u001b[39m\u001b[39m.\u001b[39mrender_mode \u001b[39m==\u001b[39m \u001b[39m\"\u001b[39m\u001b[39mhuman\u001b[39m\u001b[39m\"\u001b[39m:\n\u001b[0;32m    187\u001b[0m     pygame\u001b[39m.\u001b[39mevent\u001b[39m.\u001b[39mpump()\n",
      "\u001b[1;31merror\u001b[0m: display Surface quit"
     ]
    }
   ],
   "source": [
    "\n",
    "tasa_aprendizaje = 0.1\n",
    "factor_descuento = 0.95\n",
    "episodios = 5000\n",
    "listado_recompensas = []\n",
    "for episodio in range(episodios):\n",
    "    estado = discretizar(env.reset())\n",
    "    done = False\n",
    "    recompensa_total = 0\n",
    "    while not done:\n",
    "        if randint(0, 10) > 2:\n",
    "            accion = np.argmax(q_table[estado])\n",
    "        else:\n",
    "            accion = randint(0, 2)\n",
    "        \n",
    "        nuevo_estado, recompensa, done, _ = env.step(accion)\n",
    "        q_table[estado][accion] = q_table[estado][accion] + tasa_aprendizaje * (recompensa + factor_descuento * np.max(q_table[discretizar(nuevo_estado)]) - q_table[estado][accion])\n",
    "        estado = discretizar(nuevo_estado)\n",
    "        recompensa_total += recompensa\n",
    "        if (episodio + 1) % 500 == 0:\n",
    "            env.render()\n",
    "    listado_recompensas.append(recompensa_total)\n",
    "    if (episodio + 1) % 100 == 0:\n",
    "        print(f\"Episodio: {episodio + 1} -  Recompensa: {np.mean(listado_recompensas)}\")\n",
    "    env.close()"
   ]
  }
 ],
 "metadata": {
  "kernelspec": {
   "display_name": "gym",
   "language": "python",
   "name": "python3"
  },
  "language_info": {
   "codemirror_mode": {
    "name": "ipython",
    "version": 3
   },
   "file_extension": ".py",
   "mimetype": "text/x-python",
   "name": "python",
   "nbconvert_exporter": "python",
   "pygments_lexer": "ipython3",
   "version": "3.10.9"
  },
  "orig_nbformat": 4
 },
 "nbformat": 4,
 "nbformat_minor": 2
}
