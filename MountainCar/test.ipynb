{
 "cells": [
  {
   "cell_type": "code",
   "execution_count": null,
   "metadata": {},
   "outputs": [],
   "source": [
    "import gym\n",
    "import numpy as np\n",
    "from random import randint\n",
    "from MountainCarEnv import MountainCarEnv"
   ]
  },
  {
   "cell_type": "code",
   "execution_count": null,
   "metadata": {},
   "outputs": [],
   "source": [
    "env = MountainCarEnv(render_mode=\"human\")"
   ]
  },
  {
   "cell_type": "code",
   "execution_count": null,
   "metadata": {},
   "outputs": [],
   "source": [
    "def discretizar(valor):\n",
    "    aux = ((valor - env.observation_space.low) / (env.observation_space.high - env.observation_space.low)) * 20\n",
    "    return tuple(aux.astype(np.int32))"
   ]
  },
  {
   "cell_type": "code",
   "execution_count": null,
   "metadata": {},
   "outputs": [],
   "source": [
    "discretizar(env.reset())"
   ]
  },
  {
   "cell_type": "code",
   "execution_count": null,
   "metadata": {},
   "outputs": [],
   "source": [
    "pos_space = np.linspace(-5, 5, 10)\n",
    "vel_space = np.linspace(-3, 3, 2)\n",
    "pos_space"
   ]
  },
  {
   "cell_type": "code",
   "execution_count": null,
   "metadata": {},
   "outputs": [],
   "source": [
    "def get_state(obs):\n",
    "    pos, vel = obs\n",
    "    pos_bin = np.digitize(pos, pos_space)\n",
    "    vel_bin = np.digitize(vel, vel_space)\n",
    "    return pos_bin, vel_bin"
   ]
  },
  {
   "cell_type": "code",
   "execution_count": null,
   "metadata": {},
   "outputs": [],
   "source": [
    "estado = get_state(np.array([-0.4, 0.2]))\n",
    "estado"
   ]
  },
  {
   "cell_type": "code",
   "execution_count": null,
   "metadata": {},
   "outputs": [],
   "source": [
    "q_table = np.random.uniform(low=-1, high=1, size=(20, 20, 3))"
   ]
  },
  {
   "cell_type": "code",
   "execution_count": null,
   "metadata": {},
   "outputs": [],
   "source": [
    "\n",
    "tasa_aprendizaje = 0.1\n",
    "factor_descuento = 0.95\n",
    "episodios = 5000\n",
    "listado_recompensas = []\n",
    "for episodio in range(episodios):\n",
    "    estado = discretizar(env.reset())\n",
    "    done = False\n",
    "    recompensa_total = 0\n",
    "    while not done:\n",
    "        if randint(0, 10) > 2:\n",
    "            accion = np.argmax(q_table[estado])\n",
    "        else:\n",
    "            accion = randint(0, 2)\n",
    "        \n",
    "        nuevo_estado, recompensa, done, _ = env.step(accion)\n",
    "        q_table[estado][accion] = q_table[estado][accion] + tasa_aprendizaje * (recompensa + factor_descuento * np.max(q_table[discretizar(nuevo_estado)]) - q_table[estado][accion])\n",
    "        estado = discretizar(nuevo_estado)\n",
    "        recompensa_total += recompensa\n",
    "        if (episodio + 1) % 500 == 0:\n",
    "            env.render()\n",
    "    listado_recompensas.append(recompensa_total)\n",
    "    if (episodio + 1) % 100 == 0:\n",
    "        print(f\"Episodio: {episodio + 1} -  Recompensa: {np.mean(listado_recompensas)}\")\n",
    "    env.close()"
   ]
  }
 ],
 "metadata": {
  "kernelspec": {
   "display_name": "gym",
   "language": "python",
   "name": "python3"
  },
  "language_info": {
   "codemirror_mode": {
    "name": "ipython",
    "version": 3
   },
   "file_extension": ".py",
   "mimetype": "text/x-python",
   "name": "python",
   "nbconvert_exporter": "python",
   "pygments_lexer": "ipython3",
   "version": "3.10.9"
  },
  "orig_nbformat": 4
 },
 "nbformat": 4,
 "nbformat_minor": 2
}
